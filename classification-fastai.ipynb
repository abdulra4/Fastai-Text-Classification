{
 "cells": [
  {
   "cell_type": "markdown",
   "metadata": {},
   "source": [
    "## Text Classification Using FastAI’s ULMFiT"
   ]
  },
  {
   "cell_type": "code",
   "execution_count": 1,
   "metadata": {},
   "outputs": [],
   "source": [
    "from fastai.text import *\n",
    "import pandas as pd\n",
    "import numpy as np\n",
    "from sklearn.feature_selection import chi2\n",
    "\n",
    "# Optional: use this line if you want to remove Pandas'\n",
    "# default concatenation of long text in columns\n",
    "pd.set_option('display.max_colwidth', -1)"
   ]
  },
  {
   "cell_type": "markdown",
   "metadata": {},
   "source": [
    "___\n",
    "#### Explore data"
   ]
  },
  {
   "cell_type": "code",
   "execution_count": 2,
   "metadata": {},
   "outputs": [],
   "source": [
    "df_text = pd.read_csv(\"./data/title_StackOverflow.txt\", sep='\\t', names=['text'], header=None)"
   ]
  },
  {
   "cell_type": "code",
   "execution_count": 3,
   "metadata": {},
   "outputs": [
    {
     "data": {
      "text/html": [
       "<div>\n",
       "<style scoped>\n",
       "    .dataframe tbody tr th:only-of-type {\n",
       "        vertical-align: middle;\n",
       "    }\n",
       "\n",
       "    .dataframe tbody tr th {\n",
       "        vertical-align: top;\n",
       "    }\n",
       "\n",
       "    .dataframe thead th {\n",
       "        text-align: right;\n",
       "    }\n",
       "</style>\n",
       "<table border=\"1\" class=\"dataframe\">\n",
       "  <thead>\n",
       "    <tr style=\"text-align: right;\">\n",
       "      <th></th>\n",
       "      <th>text</th>\n",
       "    </tr>\n",
       "  </thead>\n",
       "  <tbody>\n",
       "    <tr>\n",
       "      <th>0</th>\n",
       "      <td>How do I fill a DataSet or a DataTable from a LINQ query resultset ?</td>\n",
       "    </tr>\n",
       "    <tr>\n",
       "      <th>1</th>\n",
       "      <td>How do you page a collection with LINQ?</td>\n",
       "    </tr>\n",
       "    <tr>\n",
       "      <th>2</th>\n",
       "      <td>Best Subversion clients for Windows Vista (64bit)</td>\n",
       "    </tr>\n",
       "    <tr>\n",
       "      <th>3</th>\n",
       "      <td>Best Practice: Collaborative Environment, Bin Directory, SVN</td>\n",
       "    </tr>\n",
       "    <tr>\n",
       "      <th>4</th>\n",
       "      <td>Visual Studio Setup Project - Per User Registry Settings</td>\n",
       "    </tr>\n",
       "  </tbody>\n",
       "</table>\n",
       "</div>"
      ],
      "text/plain": [
       "                                                                   text\n",
       "0  How do I fill a DataSet or a DataTable from a LINQ query resultset ?\n",
       "1  How do you page a collection with LINQ?                             \n",
       "2  Best Subversion clients for Windows Vista (64bit)                   \n",
       "3  Best Practice: Collaborative Environment, Bin Directory, SVN        \n",
       "4  Visual Studio Setup Project - Per User Registry Settings            "
      ]
     },
     "execution_count": 3,
     "metadata": {},
     "output_type": "execute_result"
    }
   ],
   "source": [
    "df_text.head()"
   ]
  },
  {
   "cell_type": "code",
   "execution_count": 4,
   "metadata": {},
   "outputs": [],
   "source": [
    "df_label = pd.read_csv(\"./data/label_StackOverflow.txt\", sep='\\t', names=['label'], header=None)"
   ]
  },
  {
   "cell_type": "code",
   "execution_count": 5,
   "metadata": {},
   "outputs": [
    {
     "data": {
      "text/html": [
       "<div>\n",
       "<style scoped>\n",
       "    .dataframe tbody tr th:only-of-type {\n",
       "        vertical-align: middle;\n",
       "    }\n",
       "\n",
       "    .dataframe tbody tr th {\n",
       "        vertical-align: top;\n",
       "    }\n",
       "\n",
       "    .dataframe thead th {\n",
       "        text-align: right;\n",
       "    }\n",
       "</style>\n",
       "<table border=\"1\" class=\"dataframe\">\n",
       "  <thead>\n",
       "    <tr style=\"text-align: right;\">\n",
       "      <th></th>\n",
       "      <th>label</th>\n",
       "    </tr>\n",
       "  </thead>\n",
       "  <tbody>\n",
       "    <tr>\n",
       "      <th>0</th>\n",
       "      <td>18</td>\n",
       "    </tr>\n",
       "    <tr>\n",
       "      <th>1</th>\n",
       "      <td>18</td>\n",
       "    </tr>\n",
       "    <tr>\n",
       "      <th>2</th>\n",
       "      <td>3</td>\n",
       "    </tr>\n",
       "    <tr>\n",
       "      <th>3</th>\n",
       "      <td>3</td>\n",
       "    </tr>\n",
       "    <tr>\n",
       "      <th>4</th>\n",
       "      <td>7</td>\n",
       "    </tr>\n",
       "  </tbody>\n",
       "</table>\n",
       "</div>"
      ],
      "text/plain": [
       "   label\n",
       "0  18   \n",
       "1  18   \n",
       "2  3    \n",
       "3  3    \n",
       "4  7    "
      ]
     },
     "execution_count": 5,
     "metadata": {},
     "output_type": "execute_result"
    }
   ],
   "source": [
    "df_label.head()"
   ]
  },
  {
   "cell_type": "code",
   "execution_count": 6,
   "metadata": {},
   "outputs": [
    {
     "name": "stdout",
     "output_type": "stream",
     "text": [
      "Length of dataset: 20000\n"
     ]
    },
    {
     "data": {
      "text/html": [
       "<div>\n",
       "<style scoped>\n",
       "    .dataframe tbody tr th:only-of-type {\n",
       "        vertical-align: middle;\n",
       "    }\n",
       "\n",
       "    .dataframe tbody tr th {\n",
       "        vertical-align: top;\n",
       "    }\n",
       "\n",
       "    .dataframe thead th {\n",
       "        text-align: right;\n",
       "    }\n",
       "</style>\n",
       "<table border=\"1\" class=\"dataframe\">\n",
       "  <thead>\n",
       "    <tr style=\"text-align: right;\">\n",
       "      <th></th>\n",
       "      <th>label</th>\n",
       "      <th>text</th>\n",
       "    </tr>\n",
       "  </thead>\n",
       "  <tbody>\n",
       "    <tr>\n",
       "      <th>0</th>\n",
       "      <td>18</td>\n",
       "      <td>How do I fill a DataSet or a DataTable from a LINQ query resultset ?</td>\n",
       "    </tr>\n",
       "    <tr>\n",
       "      <th>1</th>\n",
       "      <td>18</td>\n",
       "      <td>How do you page a collection with LINQ?</td>\n",
       "    </tr>\n",
       "    <tr>\n",
       "      <th>2</th>\n",
       "      <td>3</td>\n",
       "      <td>Best Subversion clients for Windows Vista (64bit)</td>\n",
       "    </tr>\n",
       "    <tr>\n",
       "      <th>3</th>\n",
       "      <td>3</td>\n",
       "      <td>Best Practice: Collaborative Environment, Bin Directory, SVN</td>\n",
       "    </tr>\n",
       "    <tr>\n",
       "      <th>4</th>\n",
       "      <td>7</td>\n",
       "      <td>Visual Studio Setup Project - Per User Registry Settings</td>\n",
       "    </tr>\n",
       "  </tbody>\n",
       "</table>\n",
       "</div>"
      ],
      "text/plain": [
       "   label                                                                  text\n",
       "0  18     How do I fill a DataSet or a DataTable from a LINQ query resultset ?\n",
       "1  18     How do you page a collection with LINQ?                             \n",
       "2  3      Best Subversion clients for Windows Vista (64bit)                   \n",
       "3  3      Best Practice: Collaborative Environment, Bin Directory, SVN        \n",
       "4  7      Visual Studio Setup Project - Per User Registry Settings            "
      ]
     },
     "execution_count": 6,
     "metadata": {},
     "output_type": "execute_result"
    }
   ],
   "source": [
    "df = pd.concat([df_label,df_text], axis = 1)\n",
    "print('Length of dataset: '+str(len(df.index)))\n",
    "df.head()"
   ]
  },
  {
   "cell_type": "code",
   "execution_count": 7,
   "metadata": {},
   "outputs": [
    {
     "data": {
      "text/html": [
       "<div>\n",
       "<style scoped>\n",
       "    .dataframe tbody tr th:only-of-type {\n",
       "        vertical-align: middle;\n",
       "    }\n",
       "\n",
       "    .dataframe tbody tr th {\n",
       "        vertical-align: top;\n",
       "    }\n",
       "\n",
       "    .dataframe thead th {\n",
       "        text-align: right;\n",
       "    }\n",
       "</style>\n",
       "<table border=\"1\" class=\"dataframe\">\n",
       "  <thead>\n",
       "    <tr style=\"text-align: right;\">\n",
       "      <th></th>\n",
       "      <th>label</th>\n",
       "      <th>text</th>\n",
       "    </tr>\n",
       "  </thead>\n",
       "  <tbody>\n",
       "    <tr>\n",
       "      <th>0</th>\n",
       "      <td>linq</td>\n",
       "      <td>How do I fill a DataSet or a DataTable from a LINQ query resultset ?</td>\n",
       "    </tr>\n",
       "    <tr>\n",
       "      <th>1</th>\n",
       "      <td>linq</td>\n",
       "      <td>How do you page a collection with LINQ?</td>\n",
       "    </tr>\n",
       "    <tr>\n",
       "      <th>2</th>\n",
       "      <td>svn</td>\n",
       "      <td>Best Subversion clients for Windows Vista (64bit)</td>\n",
       "    </tr>\n",
       "    <tr>\n",
       "      <th>3</th>\n",
       "      <td>svn</td>\n",
       "      <td>Best Practice: Collaborative Environment, Bin Directory, SVN</td>\n",
       "    </tr>\n",
       "    <tr>\n",
       "      <th>4</th>\n",
       "      <td>visual-studio</td>\n",
       "      <td>Visual Studio Setup Project - Per User Registry Settings</td>\n",
       "    </tr>\n",
       "  </tbody>\n",
       "</table>\n",
       "</div>"
      ],
      "text/plain": [
       "           label  \\\n",
       "0  linq            \n",
       "1  linq            \n",
       "2  svn             \n",
       "3  svn             \n",
       "4  visual-studio   \n",
       "\n",
       "                                                                   text  \n",
       "0  How do I fill a DataSet or a DataTable from a LINQ query resultset ?  \n",
       "1  How do you page a collection with LINQ?                               \n",
       "2  Best Subversion clients for Windows Vista (64bit)                     \n",
       "3  Best Practice: Collaborative Environment, Bin Directory, SVN          \n",
       "4  Visual Studio Setup Project - Per User Registry Settings              "
      ]
     },
     "execution_count": 7,
     "metadata": {},
     "output_type": "execute_result"
    }
   ],
   "source": [
    "# do not do this for large data sets\n",
    "mapping = {\n",
    "  1: 'wordpress',\n",
    "  2: 'oracle',\n",
    "  3: 'svn',\n",
    "  4: 'apache',\n",
    "  5: 'excel',\n",
    "  6: 'matlab',\n",
    "  7: 'visual-studio',\n",
    "  8: 'cocoa',\n",
    "  9: 'osx',\n",
    "  10: 'bash',\n",
    "  11: 'spring',\n",
    "  12: 'hibernate',\n",
    "  13: 'scala',\n",
    "  14: 'sharepoint',\n",
    "  15: 'ajax',\n",
    "  16: 'qt',\n",
    "  17: 'drupal',\n",
    "  18: 'linq',\n",
    "  19: 'haskell',\n",
    "  20: 'magento'\n",
    "}\n",
    "df['label'] = df['label'].map(mapping)\n",
    "df.head()"
   ]
  },
  {
   "cell_type": "code",
   "execution_count": 8,
   "metadata": {},
   "outputs": [],
   "source": [
    "# test - words to int and vice versa \n",
    "from collections import Counter\n",
    "counts = Counter(df['label'])\n",
    "vocab = sorted(counts, key=counts.get, reverse=True)\n",
    "vocab_to_int = {word: ii for ii, word in enumerate(vocab, 1)}\n",
    "# future references "
   ]
  },
  {
   "cell_type": "markdown",
   "metadata": {},
   "source": [
    "___\n",
    "#### Create train & validation datasets and FastAI data bunch"
   ]
  },
  {
   "cell_type": "code",
   "execution_count": 9,
   "metadata": {},
   "outputs": [
    {
     "data": {
      "text/plain": [
       "((14000, 2), (6000, 2))"
      ]
     },
     "execution_count": 9,
     "metadata": {},
     "output_type": "execute_result"
    }
   ],
   "source": [
    "from sklearn.model_selection import train_test_split\n",
    "\n",
    "df_trn, df_val = train_test_split(df, stratify = df['label'], test_size = 0.3)\n",
    "df_trn.shape, df_val.shape"
   ]
  },
  {
   "cell_type": "markdown",
   "metadata": {},
   "source": [
    "> TextLMDataBunch creates a data bunch for language modelling. In this, labels are completely ignored. Instead, data is processed so that the RNN can learn what word comes next given a starting word. \n",
    "\n",
    "> TextClasDataBunch sets up the data for classification. Labels play a key role here. We can also set the batch size for learning by changing the bs parameter.\n"
   ]
  },
  {
   "cell_type": "code",
   "execution_count": 10,
   "metadata": {},
   "outputs": [],
   "source": [
    "# Language model data\n",
    "data_lm = TextLMDataBunch.from_df(train_df = df_trn, valid_df = df_val, path = \"\")"
   ]
  },
  {
   "cell_type": "code",
   "execution_count": 11,
   "metadata": {},
   "outputs": [],
   "source": [
    "# Classifier model data\n",
    "data_clas = TextClasDataBunch.from_df(train_df = df_trn, valid_df = df_val, path = \"\", vocab=data_lm.train_ds.vocab, bs=32)"
   ]
  },
  {
   "cell_type": "code",
   "execution_count": 12,
   "metadata": {},
   "outputs": [
    {
     "data": {
      "text/html": [
       "<table border=\"1\" class=\"dataframe\">\n",
       "  <thead>\n",
       "    <tr style=\"text-align: right;\">\n",
       "      <th>text</th>\n",
       "      <th>target</th>\n",
       "    </tr>\n",
       "  </thead>\n",
       "  <tbody>\n",
       "    <tr>\n",
       "      <td>xxbos xxmaj how xxmaj do i xxmaj loop xxmaj through xxmaj an xxmaj excel xxmaj spreadsheet xxmaj with xxup vba , xxmaj paste a xxmaj value xxmaj to a xxmaj website xxmaj form xxmaj then xxmaj extract xxmaj the xxmaj result xxmaj back ?</td>\n",
       "      <td>excel</td>\n",
       "    </tr>\n",
       "    <tr>\n",
       "      <td>xxbos xxmaj in xxmaj oracle xxmaj xxunk ( xxup xxunk ) , is there a way to get the xxunk point of a polygon that is contained by the surface of the polygon ?</td>\n",
       "      <td>oracle</td>\n",
       "    </tr>\n",
       "    <tr>\n",
       "      <td>xxbos xxmaj why would the browser cache assets ( images , js , etc . ) while getting but re - request everything after a xxup post + 302 redirect ?</td>\n",
       "      <td>apache</td>\n",
       "    </tr>\n",
       "    <tr>\n",
       "      <td>xxbos xxmaj visual xxmaj studio xxmaj addin xxmaj development - xxmaj how to resolve the \" xxmaj the process can not access the file \" problem after xxunk visual studio ?</td>\n",
       "      <td>visual-studio</td>\n",
       "    </tr>\n",
       "    <tr>\n",
       "      <td>xxbos xxmaj making the xxmaj code check to see if the xxmaj text in a xxmaj text box matches any of the xxmaj strings in an nsarray .</td>\n",
       "      <td>cocoa</td>\n",
       "    </tr>\n",
       "  </tbody>\n",
       "</table>"
      ],
      "text/plain": [
       "<IPython.core.display.HTML object>"
      ]
     },
     "metadata": {},
     "output_type": "display_data"
    }
   ],
   "source": [
    "data_clas.show_batch()"
   ]
  },
  {
   "cell_type": "markdown",
   "metadata": {},
   "source": [
    ">The xx___ tags represent the aspects of language in a way that the computer can understand. The xxbos tag marks the beginning of a sentence. The xxmaj tag is used to imply that the first letter of the next word is capitalized."
   ]
  },
  {
   "cell_type": "markdown",
   "metadata": {},
   "source": [
    "___\n",
    "#### Create and training the language model "
   ]
  },
  {
   "cell_type": "code",
   "execution_count": 13,
   "metadata": {},
   "outputs": [],
   "source": [
    "learn = language_model_learner(data_lm,AWD_LSTM, drop_mult=0.3)"
   ]
  },
  {
   "cell_type": "code",
   "execution_count": 14,
   "metadata": {},
   "outputs": [
    {
     "data": {
      "text/html": [],
      "text/plain": [
       "<IPython.core.display.HTML object>"
      ]
     },
     "metadata": {},
     "output_type": "display_data"
    },
    {
     "name": "stdout",
     "output_type": "stream",
     "text": [
      "LR Finder is complete, type {learner_name}.recorder.plot() to see the graph.\n",
      "Min numerical gradient: 5.75E-02\n"
     ]
    },
    {
     "data": {
      "image/png": "[encoded data removed]",
      "text/plain": [
       "<Figure size 432x288 with 1 Axes>"
      ]
     },
     "metadata": {
      "needs_background": "light"
     },
     "output_type": "display_data"
    }
   ],
   "source": [
    "learn.lr_find()\n",
    "learn.recorder.plot(suggestion=True)\n",
    "min_grad_lr = learn.recorder.min_grad_lr"
   ]
  },
  {
   "cell_type": "code",
   "execution_count": 15,
   "metadata": {},
   "outputs": [
    {
     "data": {
      "text/plain": [
       "0.05754399373371566"
      ]
     },
     "execution_count": 15,
     "metadata": {},
     "output_type": "execute_result"
    }
   ],
   "source": [
    "min_grad_lr"
   ]
  },
  {
   "cell_type": "code",
   "execution_count": 16,
   "metadata": {},
   "outputs": [
    {
     "data": {
      "text/html": [
       "Total time: 14:57 <p><table style='width:375px; margin-bottom:10px'>\n",
       "  <tr>\n",
       "    <th>epoch</th>\n",
       "    <th>train_loss</th>\n",
       "    <th>valid_loss</th>\n",
       "    <th>accuracy</th>\n",
       "    <th>time</th>\n",
       "  </tr>\n",
       "  <tr>\n",
       "    <th>1</th>\n",
       "    <th>5.158511</th>\n",
       "    <th>4.216070</th>\n",
       "    <th>0.302547</th>\n",
       "    <th>05:46</th>\n",
       "  </tr>\n",
       "  <tr>\n",
       "    <th>2</th>\n",
       "    <th>4.386769</th>\n",
       "    <th>4.085182</th>\n",
       "    <th>0.313157</th>\n",
       "    <th>09:10</th>\n",
       "  </tr>\n",
       "</table>\n"
      ],
      "text/plain": [
       "<IPython.core.display.HTML object>"
      ]
     },
     "metadata": {},
     "output_type": "display_data"
    }
   ],
   "source": [
    "learn.fit_one_cycle(2, min_grad_lr)"
   ]
  },
  {
   "cell_type": "code",
   "execution_count": 17,
   "metadata": {},
   "outputs": [],
   "source": [
    "learn.save_encoder('ft_enc')"
   ]
  },
  {
   "cell_type": "code",
   "execution_count": 18,
   "metadata": {},
   "outputs": [
    {
     "data": {
      "text/html": [],
      "text/plain": [
       "<IPython.core.display.HTML object>"
      ]
     },
     "metadata": {},
     "output_type": "display_data"
    },
    {
     "name": "stdout",
     "output_type": "stream",
     "text": [
      "LR Finder is complete, type {learner_name}.recorder.plot() to see the graph.\n",
      "Min numerical gradient: 1.91E-02\n"
     ]
    },
    {
     "data": {
      "image/png": "[encoded data removed]",
      "text/plain": [
       "<Figure size 432x288 with 1 Axes>"
      ]
     },
     "metadata": {
      "needs_background": "light"
     },
     "output_type": "display_data"
    }
   ],
   "source": [
    "# another few epochs of training\n",
    "learn.lr_find()\n",
    "learn.recorder.plot(suggestion=True)\n",
    "min_grad_lr = learn.recorder.min_grad_lr"
   ]
  },
  {
   "cell_type": "code",
   "execution_count": 19,
   "metadata": {},
   "outputs": [
    {
     "data": {
      "text/plain": [
       "0.019054607179632484"
      ]
     },
     "execution_count": 19,
     "metadata": {},
     "output_type": "execute_result"
    }
   ],
   "source": [
    "min_grad_lr"
   ]
  },
  {
   "cell_type": "code",
   "execution_count": 20,
   "metadata": {},
   "outputs": [
    {
     "data": {
      "text/html": [
       "Total time: 26:30 <p><table style='width:375px; margin-bottom:10px'>\n",
       "  <tr>\n",
       "    <th>epoch</th>\n",
       "    <th>train_loss</th>\n",
       "    <th>valid_loss</th>\n",
       "    <th>accuracy</th>\n",
       "    <th>time</th>\n",
       "  </tr>\n",
       "  <tr>\n",
       "    <th>1</th>\n",
       "    <th>3.747772</th>\n",
       "    <th>3.968594</th>\n",
       "    <th>0.324396</th>\n",
       "    <th>13:20</th>\n",
       "  </tr>\n",
       "  <tr>\n",
       "    <th>2</th>\n",
       "    <th>3.624953</th>\n",
       "    <th>3.958264</th>\n",
       "    <th>0.326352</th>\n",
       "    <th>13:09</th>\n",
       "  </tr>\n",
       "</table>\n"
      ],
      "text/plain": [
       "<IPython.core.display.HTML object>"
      ]
     },
     "metadata": {},
     "output_type": "display_data"
    }
   ],
   "source": [
    "# unfreezing weights and training the rest of the NN\n",
    "learn.unfreeze()\n",
    "learn.fit_one_cycle(2, 1e-3)"
   ]
  },
  {
   "cell_type": "code",
   "execution_count": 21,
   "metadata": {},
   "outputs": [],
   "source": [
    "learn.save_encoder('ft_enc_1')"
   ]
  },
  {
   "cell_type": "code",
   "execution_count": 22,
   "metadata": {},
   "outputs": [
    {
     "data": {
      "text/plain": [
       "'How do i open a function to truncated extends when changing a'"
      ]
     },
     "execution_count": 22,
     "metadata": {},
     "output_type": "execute_result"
    }
   ],
   "source": [
    "learn.predict(\"How do\", n_words=10)"
   ]
  },
  {
   "cell_type": "markdown",
   "metadata": {},
   "source": [
    "____\n",
    "#### Using the langauge model to train the classifier"
   ]
  },
  {
   "cell_type": "code",
   "execution_count": 23,
   "metadata": {},
   "outputs": [],
   "source": [
    "learn = text_classifier_learner(data_clas, AWD_LSTM, drop_mult=0.5)"
   ]
  },
  {
   "cell_type": "code",
   "execution_count": 24,
   "metadata": {},
   "outputs": [],
   "source": [
    "learn.load_encoder('ft_enc_1')"
   ]
  },
  {
   "cell_type": "code",
   "execution_count": 25,
   "metadata": {},
   "outputs": [
    {
     "data": {
      "text/html": [],
      "text/plain": [
       "<IPython.core.display.HTML object>"
      ]
     },
     "metadata": {},
     "output_type": "display_data"
    },
    {
     "name": "stdout",
     "output_type": "stream",
     "text": [
      "LR Finder is complete, type {learner_name}.recorder.plot() to see the graph.\n",
      "Min numerical gradient: 5.75E-02\n"
     ]
    },
    {
     "data": {
      "image/png": "[encoded data removed]",
      "text/plain": [
       "<Figure size 432x288 with 1 Axes>"
      ]
     },
     "metadata": {
      "needs_background": "light"
     },
     "output_type": "display_data"
    }
   ],
   "source": [
    "learn.lr_find()\n",
    "learn.recorder.plot(suggestion=True)\n",
    "min_grad_lr = learn.recorder.min_grad_lr"
   ]
  },
  {
   "cell_type": "code",
   "execution_count": 26,
   "metadata": {},
   "outputs": [
    {
     "data": {
      "text/plain": [
       "0.05754399373371566"
      ]
     },
     "execution_count": 26,
     "metadata": {},
     "output_type": "execute_result"
    }
   ],
   "source": [
    "min_grad_lr"
   ]
  },
  {
   "cell_type": "code",
   "execution_count": 27,
   "metadata": {},
   "outputs": [
    {
     "data": {
      "text/html": [
       "Total time: 15:47 <p><table style='width:375px; margin-bottom:10px'>\n",
       "  <tr>\n",
       "    <th>epoch</th>\n",
       "    <th>train_loss</th>\n",
       "    <th>valid_loss</th>\n",
       "    <th>accuracy</th>\n",
       "    <th>time</th>\n",
       "  </tr>\n",
       "  <tr>\n",
       "    <th>1</th>\n",
       "    <th>2.420814</th>\n",
       "    <th>1.778637</th>\n",
       "    <th>0.492500</th>\n",
       "    <th>07:51</th>\n",
       "  </tr>\n",
       "  <tr>\n",
       "    <th>2</th>\n",
       "    <th>2.148424</th>\n",
       "    <th>1.474434</th>\n",
       "    <th>0.616667</th>\n",
       "    <th>07:55</th>\n",
       "  </tr>\n",
       "</table>\n"
      ],
      "text/plain": [
       "<IPython.core.display.HTML object>"
      ]
     },
     "metadata": {},
     "output_type": "display_data"
    }
   ],
   "source": [
    "learn.fit_one_cycle(2, min_grad_lr)"
   ]
  },
  {
   "cell_type": "code",
   "execution_count": 28,
   "metadata": {},
   "outputs": [
    {
     "data": {
      "image/png": "[encoded data removed]",
      "text/plain": [
       "<Figure size 432x288 with 1 Axes>"
      ]
     },
     "metadata": {
      "needs_background": "light"
     },
     "output_type": "display_data"
    }
   ],
   "source": [
    "#track loss functions epoch \n",
    "learn.recorder.plot_losses()"
   ]
  },
  {
   "cell_type": "code",
   "execution_count": 29,
   "metadata": {},
   "outputs": [
    {
     "data": {
      "text/html": [
       "Total time: 41:44 <p><table style='width:375px; margin-bottom:10px'>\n",
       "  <tr>\n",
       "    <th>epoch</th>\n",
       "    <th>train_loss</th>\n",
       "    <th>valid_loss</th>\n",
       "    <th>accuracy</th>\n",
       "    <th>time</th>\n",
       "  </tr>\n",
       "  <tr>\n",
       "    <th>1</th>\n",
       "    <th>1.794487</th>\n",
       "    <th>1.006230</th>\n",
       "    <th>0.725000</th>\n",
       "    <th>09:52</th>\n",
       "  </tr>\n",
       "  <tr>\n",
       "    <th>2</th>\n",
       "    <th>1.131097</th>\n",
       "    <th>0.770400</th>\n",
       "    <th>0.789833</th>\n",
       "    <th>09:44</th>\n",
       "  </tr>\n",
       "  <tr>\n",
       "    <th>3</th>\n",
       "    <th>1.036799</th>\n",
       "    <th>0.692126</th>\n",
       "    <th>0.807333</th>\n",
       "    <th>10:47</th>\n",
       "  </tr>\n",
       "  <tr>\n",
       "    <th>4</th>\n",
       "    <th>0.956133</th>\n",
       "    <th>0.683746</th>\n",
       "    <th>0.810833</th>\n",
       "    <th>11:19</th>\n",
       "  </tr>\n",
       "</table>\n"
      ],
      "text/plain": [
       "<IPython.core.display.HTML object>"
      ]
     },
     "metadata": {},
     "output_type": "display_data"
    }
   ],
   "source": [
    "learn.freeze_to(-2)\n",
    "learn.fit_one_cycle(4, slice(5e-3, 2e-3), moms=(0.8,0.7))"
   ]
  },
  {
   "cell_type": "code",
   "execution_count": 30,
   "metadata": {},
   "outputs": [
    {
     "data": {
      "image/png": "[encoded data removed]",
      "text/plain": [
       "<Figure size 432x288 with 1 Axes>"
      ]
     },
     "metadata": {
      "needs_background": "light"
     },
     "output_type": "display_data"
    }
   ],
   "source": [
    "learn.recorder.plot_losses()"
   ]
  },
  {
   "cell_type": "code",
   "execution_count": 31,
   "metadata": {},
   "outputs": [
    {
     "data": {
      "text/html": [
       "Total time: 1:28:42 <p><table style='width:375px; margin-bottom:10px'>\n",
       "  <tr>\n",
       "    <th>epoch</th>\n",
       "    <th>train_loss</th>\n",
       "    <th>valid_loss</th>\n",
       "    <th>accuracy</th>\n",
       "    <th>time</th>\n",
       "  </tr>\n",
       "  <tr>\n",
       "    <th>1</th>\n",
       "    <th>0.885699</th>\n",
       "    <th>0.665576</th>\n",
       "    <th>0.811667</th>\n",
       "    <th>22:22</th>\n",
       "  </tr>\n",
       "  <tr>\n",
       "    <th>2</th>\n",
       "    <th>0.815029</th>\n",
       "    <th>0.634369</th>\n",
       "    <th>0.823167</th>\n",
       "    <th>21:52</th>\n",
       "  </tr>\n",
       "  <tr>\n",
       "    <th>3</th>\n",
       "    <th>0.713388</th>\n",
       "    <th>0.611062</th>\n",
       "    <th>0.828333</th>\n",
       "    <th>22:10</th>\n",
       "  </tr>\n",
       "  <tr>\n",
       "    <th>4</th>\n",
       "    <th>0.751345</th>\n",
       "    <th>0.625562</th>\n",
       "    <th>0.832667</th>\n",
       "    <th>22:17</th>\n",
       "  </tr>\n",
       "</table>\n"
      ],
      "text/plain": [
       "<IPython.core.display.HTML object>"
      ]
     },
     "metadata": {},
     "output_type": "display_data"
    }
   ],
   "source": [
    "learn.unfreeze()\n",
    "learn.fit_one_cycle(4, slice(2e-3/100, 2e-3), moms=(0.8,0.7))"
   ]
  },
  {
   "cell_type": "code",
   "execution_count": 32,
   "metadata": {},
   "outputs": [],
   "source": [
    "learn.save_encoder('ft_class')"
   ]
  },
  {
   "cell_type": "markdown",
   "metadata": {},
   "source": [
    "____\n",
    "### Analyzing Results "
   ]
  },
  {
   "cell_type": "code",
   "execution_count": 33,
   "metadata": {},
   "outputs": [
    {
     "data": {
      "image/png": "[encoded data removed]",
      "text/plain": [
       "<Figure size 432x288 with 1 Axes>"
      ]
     },
     "metadata": {
      "needs_background": "light"
     },
     "output_type": "display_data"
    }
   ],
   "source": [
    "preds,y,losses = learn.get_preds(with_loss=True)\n",
    "interp = ClassificationInterpretation(learn, preds, y, losses)\n",
    "interp.plot_confusion_matrix()\n"
   ]
  },
  {
   "cell_type": "code",
   "execution_count": 34,
   "metadata": {},
   "outputs": [
    {
     "data": {
      "text/plain": [
       "[('osx', 'cocoa', 38),\n",
       " ('qt', 'cocoa', 38),\n",
       " ('cocoa', 'qt', 22),\n",
       " ('cocoa', 'osx', 20),\n",
       " ('ajax', 'cocoa', 19),\n",
       " ('spring', 'cocoa', 18),\n",
       " ('haskell', 'cocoa', 16),\n",
       " ('visual-studio', 'cocoa', 16),\n",
       " ('scala', 'cocoa', 15),\n",
       " ('bash', 'cocoa', 13),\n",
       " ('excel', 'cocoa', 13),\n",
       " ('matlab', 'cocoa', 13),\n",
       " ('oracle', 'cocoa', 13),\n",
       " ('qt', 'osx', 13),\n",
       " ('ajax', 'apache', 12),\n",
       " ('hibernate', 'spring', 11),\n",
       " ('linq', 'cocoa', 11),\n",
       " ('hibernate', 'cocoa', 10),\n",
       " ('cocoa', 'haskell', 9),\n",
       " ('osx', 'apache', 9),\n",
       " ('osx', 'bash', 9),\n",
       " ('osx', 'svn', 9),\n",
       " ('svn', 'apache', 9),\n",
       " ('haskell', 'osx', 8),\n",
       " ('haskell', 'qt', 8),\n",
       " ('osx', 'qt', 8),\n",
       " ('scala', 'haskell', 8),\n",
       " ('visual-studio', 'osx', 8),\n",
       " ('apache', 'cocoa', 7),\n",
       " ('apache', 'svn', 7),\n",
       " ('bash', 'qt', 7),\n",
       " ('bash', 'visual-studio', 7),\n",
       " ('cocoa', 'bash', 7),\n",
       " ('cocoa', 'visual-studio', 7),\n",
       " ('spring', 'hibernate', 7),\n",
       " ('svn', 'cocoa', 7),\n",
       " ('ajax', 'wordpress', 6),\n",
       " ('apache', 'osx', 6),\n",
       " ('apache', 'sharepoint', 6),\n",
       " ('bash', 'apache', 6),\n",
       " ('bash', 'matlab', 6),\n",
       " ('cocoa', 'apache', 6),\n",
       " ('cocoa', 'oracle', 6),\n",
       " ('drupal', 'cocoa', 6),\n",
       " ('hibernate', 'oracle', 6),\n",
       " ('magento', 'sharepoint', 6),\n",
       " ('matlab', 'bash', 6),\n",
       " ('qt', 'haskell', 6),\n",
       " ('sharepoint', 'ajax', 6),\n",
       " ('sharepoint', 'cocoa', 6),\n",
       " ('svn', 'osx', 6),\n",
       " ('ajax', 'sharepoint', 5),\n",
       " ('apache', 'wordpress', 5),\n",
       " ('excel', 'matlab', 5),\n",
       " ('haskell', 'oracle', 5),\n",
       " ('haskell', 'scala', 5),\n",
       " ('oracle', 'linq', 5),\n",
       " ('qt', 'bash', 5),\n",
       " ('scala', 'bash', 5),\n",
       " ('svn', 'bash', 5),\n",
       " ('visual-studio', 'sharepoint', 5),\n",
       " ('wordpress', 'apache', 5),\n",
       " ('ajax', 'qt', 4),\n",
       " ('apache', 'bash', 4),\n",
       " ('apache', 'haskell', 4),\n",
       " ('bash', 'ajax', 4),\n",
       " ('bash', 'osx', 4),\n",
       " ('cocoa', 'sharepoint', 4),\n",
       " ('drupal', 'apache', 4),\n",
       " ('excel', 'qt', 4),\n",
       " ('haskell', 'linq', 4),\n",
       " ('haskell', 'visual-studio', 4),\n",
       " ('hibernate', 'apache', 4),\n",
       " ('osx', 'oracle', 4),\n",
       " ('qt', 'matlab', 4),\n",
       " ('qt', 'scala', 4),\n",
       " ('qt', 'sharepoint', 4),\n",
       " ('scala', 'hibernate', 4),\n",
       " ('scala', 'spring', 4),\n",
       " ('spring', 'apache', 4),\n",
       " ('spring', 'osx', 4),\n",
       " ('spring', 'qt', 4),\n",
       " ('visual-studio', 'apache', 4),\n",
       " ('visual-studio', 'qt', 4),\n",
       " ('visual-studio', 'svn', 4),\n",
       " ('wordpress', 'ajax', 4),\n",
       " ('wordpress', 'qt', 4),\n",
       " ('ajax', 'drupal', 3),\n",
       " ('apache', 'ajax', 3),\n",
       " ('apache', 'qt', 3),\n",
       " ('cocoa', 'ajax', 3),\n",
       " ('excel', 'bash', 3),\n",
       " ('excel', 'oracle', 3),\n",
       " ('haskell', 'bash', 3),\n",
       " ('haskell', 'drupal', 3),\n",
       " ('haskell', 'matlab', 3),\n",
       " ('hibernate', 'linq', 3),\n",
       " ('linq', 'matlab', 3),\n",
       " ('linq', 'scala', 3),\n",
       " ('magento', 'apache', 3),\n",
       " ('magento', 'cocoa', 3),\n",
       " ('oracle', 'bash', 3),\n",
       " ('oracle', 'excel', 3),\n",
       " ('oracle', 'qt', 3),\n",
       " ('osx', 'haskell', 3),\n",
       " ('osx', 'visual-studio', 3),\n",
       " ('qt', 'apache', 3),\n",
       " ('qt', 'linq', 3),\n",
       " ('qt', 'wordpress', 3),\n",
       " ('scala', 'magento', 3),\n",
       " ('scala', 'matlab', 3),\n",
       " ('sharepoint', 'apache', 3),\n",
       " ('sharepoint', 'haskell', 3),\n",
       " ('sharepoint', 'visual-studio', 3),\n",
       " ('spring', 'bash', 3),\n",
       " ('spring', 'haskell', 3),\n",
       " ('spring', 'linq', 3),\n",
       " ('spring', 'scala', 3),\n",
       " ('spring', 'sharepoint', 3),\n",
       " ('svn', 'visual-studio', 3),\n",
       " ('visual-studio', 'ajax', 3),\n",
       " ('visual-studio', 'bash', 3),\n",
       " ('visual-studio', 'linq', 3),\n",
       " ('wordpress', 'drupal', 3),\n",
       " ('ajax', 'bash', 2),\n",
       " ('ajax', 'oracle', 2),\n",
       " ('ajax', 'osx', 2),\n",
       " ('ajax', 'visual-studio', 2),\n",
       " ('apache', 'spring', 2),\n",
       " ('apache', 'visual-studio', 2),\n",
       " ('bash', 'haskell', 2),\n",
       " ('bash', 'oracle', 2),\n",
       " ('cocoa', 'excel', 2),\n",
       " ('cocoa', 'matlab', 2),\n",
       " ('cocoa', 'spring', 2),\n",
       " ('drupal', 'ajax', 2),\n",
       " ('drupal', 'osx', 2),\n",
       " ('drupal', 'sharepoint', 2),\n",
       " ('drupal', 'wordpress', 2),\n",
       " ('excel', 'drupal', 2),\n",
       " ('excel', 'linq', 2),\n",
       " ('excel', 'osx', 2),\n",
       " ('excel', 'sharepoint', 2),\n",
       " ('haskell', 'excel', 2),\n",
       " ('haskell', 'hibernate', 2),\n",
       " ('haskell', 'sharepoint', 2),\n",
       " ('hibernate', 'qt', 2),\n",
       " ('linq', 'excel', 2),\n",
       " ('linq', 'haskell', 2),\n",
       " ('linq', 'hibernate', 2),\n",
       " ('linq', 'oracle', 2),\n",
       " ('magento', 'drupal', 2),\n",
       " ('magento', 'wordpress', 2),\n",
       " ('matlab', 'excel', 2),\n",
       " ('matlab', 'qt', 2),\n",
       " ('oracle', 'drupal', 2),\n",
       " ('oracle', 'haskell', 2),\n",
       " ('oracle', 'hibernate', 2),\n",
       " ('oracle', 'matlab', 2),\n",
       " ('oracle', 'scala', 2),\n",
       " ('oracle', 'sharepoint', 2),\n",
       " ('oracle', 'visual-studio', 2),\n",
       " ('osx', 'sharepoint', 2),\n",
       " ('qt', 'oracle', 2),\n",
       " ('qt', 'svn', 2),\n",
       " ('qt', 'visual-studio', 2),\n",
       " ('scala', 'excel', 2),\n",
       " ('scala', 'osx', 2),\n",
       " ('sharepoint', 'drupal', 2),\n",
       " ('sharepoint', 'hibernate', 2),\n",
       " ('sharepoint', 'oracle', 2),\n",
       " ('spring', 'matlab', 2),\n",
       " ('spring', 'oracle', 2),\n",
       " ('spring', 'svn', 2),\n",
       " ('svn', 'drupal', 2),\n",
       " ('svn', 'qt', 2),\n",
       " ('svn', 'wordpress', 2),\n",
       " ('visual-studio', 'drupal', 2),\n",
       " ('visual-studio', 'excel', 2),\n",
       " ('visual-studio', 'oracle', 2),\n",
       " ('wordpress', 'cocoa', 2),\n",
       " ('wordpress', 'sharepoint', 2),\n",
       " ('ajax', 'excel', 1),\n",
       " ('ajax', 'hibernate', 1),\n",
       " ('ajax', 'linq', 1),\n",
       " ('ajax', 'matlab', 1),\n",
       " ('ajax', 'scala', 1),\n",
       " ('ajax', 'svn', 1),\n",
       " ('apache', 'drupal', 1),\n",
       " ('apache', 'oracle', 1),\n",
       " ('bash', 'excel', 1),\n",
       " ('bash', 'linq', 1),\n",
       " ('bash', 'svn', 1),\n",
       " ('bash', 'wordpress', 1),\n",
       " ('cocoa', 'hibernate', 1),\n",
       " ('cocoa', 'scala', 1),\n",
       " ('cocoa', 'svn', 1),\n",
       " ('cocoa', 'wordpress', 1),\n",
       " ('drupal', 'bash', 1),\n",
       " ('drupal', 'hibernate', 1),\n",
       " ('drupal', 'magento', 1),\n",
       " ('drupal', 'qt', 1),\n",
       " ('excel', 'haskell', 1),\n",
       " ('excel', 'hibernate', 1),\n",
       " ('excel', 'spring', 1),\n",
       " ('excel', 'visual-studio', 1),\n",
       " ('haskell', 'magento', 1),\n",
       " ('haskell', 'spring', 1),\n",
       " ('haskell', 'wordpress', 1),\n",
       " ('hibernate', 'drupal', 1),\n",
       " ('hibernate', 'haskell', 1),\n",
       " ('hibernate', 'matlab', 1),\n",
       " ('hibernate', 'osx', 1),\n",
       " ('hibernate', 'sharepoint', 1),\n",
       " ('hibernate', 'wordpress', 1),\n",
       " ('linq', 'bash', 1),\n",
       " ('linq', 'drupal', 1),\n",
       " ('linq', 'magento', 1),\n",
       " ('linq', 'visual-studio', 1),\n",
       " ('magento', 'ajax', 1),\n",
       " ('magento', 'excel', 1),\n",
       " ('magento', 'hibernate', 1),\n",
       " ('magento', 'oracle', 1),\n",
       " ('magento', 'qt', 1),\n",
       " ('magento', 'scala', 1),\n",
       " ('magento', 'visual-studio', 1),\n",
       " ('matlab', 'haskell', 1),\n",
       " ('matlab', 'hibernate', 1),\n",
       " ('matlab', 'linq', 1),\n",
       " ('matlab', 'oracle', 1),\n",
       " ('matlab', 'scala', 1),\n",
       " ('matlab', 'sharepoint', 1),\n",
       " ('oracle', 'ajax', 1),\n",
       " ('oracle', 'apache', 1),\n",
       " ('oracle', 'osx', 1),\n",
       " ('osx', 'drupal', 1),\n",
       " ('osx', 'matlab', 1),\n",
       " ('scala', 'ajax', 1),\n",
       " ('scala', 'drupal', 1),\n",
       " ('scala', 'qt', 1),\n",
       " ('scala', 'sharepoint', 1),\n",
       " ('sharepoint', 'bash', 1),\n",
       " ('sharepoint', 'excel', 1),\n",
       " ('sharepoint', 'magento', 1),\n",
       " ('sharepoint', 'osx', 1),\n",
       " ('sharepoint', 'qt', 1),\n",
       " ('sharepoint', 'wordpress', 1),\n",
       " ('spring', 'ajax', 1),\n",
       " ('spring', 'drupal', 1),\n",
       " ('spring', 'wordpress', 1),\n",
       " ('svn', 'excel', 1),\n",
       " ('svn', 'matlab', 1),\n",
       " ('svn', 'oracle', 1),\n",
       " ('svn', 'sharepoint', 1),\n",
       " ('visual-studio', 'haskell', 1),\n",
       " ('visual-studio', 'scala', 1),\n",
       " ('visual-studio', 'spring', 1),\n",
       " ('visual-studio', 'wordpress', 1),\n",
       " ('wordpress', 'bash', 1),\n",
       " ('wordpress', 'haskell', 1),\n",
       " ('wordpress', 'hibernate', 1),\n",
       " ('wordpress', 'magento', 1)]"
      ]
     },
     "execution_count": 34,
     "metadata": {},
     "output_type": "execute_result"
    }
   ],
   "source": [
    "interp.most_confused()"
   ]
  },
  {
   "cell_type": "markdown",
   "metadata": {},
   "source": [
    "____\n",
    "### Predict"
   ]
  },
  {
   "cell_type": "code",
   "execution_count": 49,
   "metadata": {},
   "outputs": [],
   "source": [
    "from collections import Counter "
   ]
  },
  {
   "cell_type": "code",
   "execution_count": 52,
   "metadata": {},
   "outputs": [],
   "source": [
    "counts = Counter(learn.data.classes)\n",
    "vocab = sorted(counts, key=counts.get, reverse=True)\n",
    "vocab_to_int = {word: ii for ii, word in enumerate(vocab, 0)}"
   ]
  },
  {
   "cell_type": "code",
   "execution_count": 53,
   "metadata": {},
   "outputs": [
    {
     "data": {
      "text/plain": [
       "{'ajax': 0,\n",
       " 'apache': 1,\n",
       " 'bash': 2,\n",
       " 'cocoa': 3,\n",
       " 'drupal': 4,\n",
       " 'excel': 5,\n",
       " 'haskell': 6,\n",
       " 'hibernate': 7,\n",
       " 'linq': 8,\n",
       " 'magento': 9,\n",
       " 'matlab': 10,\n",
       " 'oracle': 11,\n",
       " 'osx': 12,\n",
       " 'qt': 13,\n",
       " 'scala': 14,\n",
       " 'sharepoint': 15,\n",
       " 'spring': 16,\n",
       " 'svn': 17,\n",
       " 'visual-studio': 18,\n",
       " 'wordpress': 19}"
      ]
     },
     "execution_count": 53,
     "metadata": {},
     "output_type": "execute_result"
    }
   ],
   "source": [
    "vocab_to_int"
   ]
  },
  {
   "cell_type": "code",
   "execution_count": 62,
   "metadata": {},
   "outputs": [
    {
     "data": {
      "text/plain": [
       "(<fastai.core.Category at 0x7f61e1dd0240>,\n",
       " tensor(3),\n",
       " tensor([0.0433, 0.0295, 0.0075, 0.2578, 0.0296, 0.0248, 0.0586, 0.0369, 0.0148,\n",
       "         0.0201, 0.0206, 0.0194, 0.0757, 0.1041, 0.0424, 0.0982, 0.0647, 0.0096,\n",
       "         0.0277, 0.0146]))"
      ]
     },
     "execution_count": 62,
     "metadata": {},
     "output_type": "execute_result"
    }
   ],
   "source": [
    "# learn eval ?? \n",
    "learn.predict(\"NSOutline View Creates memory leaks in Swift\")"
   ]
  },
  {
   "cell_type": "markdown",
   "metadata": {},
   "source": [
    "___\n",
    "### Export"
   ]
  },
  {
   "cell_type": "code",
   "execution_count": 57,
   "metadata": {},
   "outputs": [],
   "source": [
    "learn.export()"
   ]
  },
  {
   "cell_type": "code",
   "execution_count": null,
   "metadata": {},
   "outputs": [],
   "source": []
  }
 ],
 "metadata": {
  "kernelspec": {
   "display_name": "Python 3",
   "language": "python",
   "name": "python3"
  },
  "language_info": {
   "codemirror_mode": {
    "name": "ipython",
    "version": 3
   },
   "file_extension": ".py",
   "mimetype": "text/x-python",
   "name": "python",
   "nbconvert_exporter": "python",
   "pygments_lexer": "ipython3",
   "version": "3.6.8"
  }
 },
 "nbformat": 4,
 "nbformat_minor": 2
}
